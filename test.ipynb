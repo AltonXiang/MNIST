{
 "cells": [
  {
   "cell_type": "code",
   "execution_count": 1,
   "id": "92dc6f0d",
   "metadata": {},
   "outputs": [],
   "source": [
    "%matplotlib inline\n",
    "import module\n",
    "import module.function as F\n",
    "import module.dataloader\n",
    "from module.data import load_data_mnist\n",
    "import module.nn as nn\n",
    "import module.optim as optim\n",
    "from module.train import train\n",
    "import time\n",
    "import numpy as np\n",
    "import matplotlib.pyplot as plt"
   ]
  },
  {
   "cell_type": "code",
   "execution_count": 2,
   "id": "ca1b6d98",
   "metadata": {},
   "outputs": [
    {
     "name": "stdout",
     "output_type": "stream",
     "text": [
      "Loading MNIST dataset. 60000 items for training, 10000 items for testing. batch_size=64\n",
      "X size: 784, MNIST image scale 28x28, total_cls=10.\n"
     ]
    }
   ],
   "source": [
    "train_iter, test_iter, num_inputs, num_cls = load_data_mnist()"
   ]
  },
  {
   "cell_type": "code",
   "execution_count": 3,
   "id": "b6b6751c",
   "metadata": {},
   "outputs": [],
   "source": [
    "import pickle\n",
    "\n",
    "class MLP(nn.Module):\n",
    "    def __init__(self, num_inputs, num_hiddens, num_outputs, activation='relu'):\n",
    "        super(MLP, self).__init__()\n",
    "        self.layers = [F.Linear(num_inputs, num_hiddens), F.ReLU(), F.Linear(num_hiddens, num_outputs), F.Softmax()]\n",
    "\n",
    "            \n",
    "with open('./model/mnist_model.pkl','rb') as f:\n",
    "    net = pickle.load(f)"
   ]
  },
  {
   "cell_type": "code",
   "execution_count": 4,
   "id": "a1d764e7",
   "metadata": {},
   "outputs": [],
   "source": [
    "from module.dataloader import DataLoader\n",
    "def test(net: nn.Module, test_iter: DataLoader, loss):\n",
    "    test_loss = []\n",
    "    test_acc = []    \n",
    "    total_acc = []\n",
    "    total_loss = []\n",
    "    for X, y in test_iter:\n",
    "        y = np.array(y).flatten()\n",
    "        logits = net(X)\n",
    "        L = loss(logits, y)\n",
    "        y_pred = logits.argmax(axis=1)\n",
    "        total_loss.append(L.item())\n",
    "        total_acc.append((y_pred == y).mean())\n",
    "    test_loss.append(sum(total_loss) / len(total_loss))\n",
    "    test_acc.append(sum(total_acc) / len(total_acc))\n",
    "    return test_loss, test_acc"
   ]
  },
  {
   "cell_type": "code",
   "execution_count": 5,
   "id": "72bbef70",
   "metadata": {},
   "outputs": [],
   "source": [
    "from module.function import *\n",
    "\n",
    "loss = CrossEntropyLoss(net)"
   ]
  },
  {
   "cell_type": "code",
   "execution_count": 6,
   "id": "7e37e8a4",
   "metadata": {},
   "outputs": [
    {
     "data": {
      "text/plain": [
       "([0.08660898711324663], [0.9748208598726115])"
      ]
     },
     "execution_count": 6,
     "metadata": {},
     "output_type": "execute_result"
    }
   ],
   "source": [
    "test(net,test_iter,loss)"
   ]
  },
  {
   "cell_type": "code",
   "execution_count": null,
   "id": "7d30a509",
   "metadata": {},
   "outputs": [],
   "source": []
  }
 ],
 "metadata": {
  "kernelspec": {
   "display_name": "Python 3 (ipykernel)",
   "language": "python",
   "name": "python3"
  },
  "language_info": {
   "codemirror_mode": {
    "name": "ipython",
    "version": 3
   },
   "file_extension": ".py",
   "mimetype": "text/x-python",
   "name": "python",
   "nbconvert_exporter": "python",
   "pygments_lexer": "ipython3",
   "version": "3.9.12"
  }
 },
 "nbformat": 4,
 "nbformat_minor": 5
}
